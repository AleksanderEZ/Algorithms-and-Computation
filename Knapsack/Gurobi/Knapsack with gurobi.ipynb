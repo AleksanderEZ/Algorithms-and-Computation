{
 "cells": [
  {
   "cell_type": "code",
   "execution_count": 1,
   "metadata": {
    "_cell_guid": "b1076dfc-b9ad-4769-8c92-a6c4dae69d19",
    "_uuid": "8f2839f25d086af736a60e9eeb907d3b93b6e0e5",
    "execution": {
     "iopub.execute_input": "2021-06-16T17:21:18.393549Z",
     "iopub.status.busy": "2021-06-16T17:21:18.392917Z",
     "iopub.status.idle": "2021-06-16T17:21:18.422038Z",
     "shell.execute_reply": "2021-06-16T17:21:18.421332Z",
     "shell.execute_reply.started": "2021-06-16T17:20:35.368078Z"
    },
    "papermill": {
     "duration": 0.042748,
     "end_time": "2021-06-16T17:21:18.422251",
     "exception": false,
     "start_time": "2021-06-16T17:21:18.379503",
     "status": "completed"
    },
    "tags": []
   },
   "outputs": [
    {
     "ename": "ModuleNotFoundError",
     "evalue": "No module named 'gurobipy'",
     "output_type": "error",
     "traceback": [
      "\u001b[0;31m---------------------------------------------------------------------------\u001b[0m",
      "\u001b[0;31mModuleNotFoundError\u001b[0m                       Traceback (most recent call last)",
      "\u001b[0;32m<ipython-input-1-377f32366b6e>\u001b[0m in \u001b[0;36m<module>\u001b[0;34m\u001b[0m\n\u001b[1;32m      5\u001b[0m \u001b[0;32mimport\u001b[0m \u001b[0mnumpy\u001b[0m \u001b[0;32mas\u001b[0m \u001b[0mnp\u001b[0m \u001b[0;31m# linear algebra\u001b[0m\u001b[0;34m\u001b[0m\u001b[0;34m\u001b[0m\u001b[0m\n\u001b[1;32m      6\u001b[0m \u001b[0;32mimport\u001b[0m \u001b[0mpandas\u001b[0m \u001b[0;32mas\u001b[0m \u001b[0mpd\u001b[0m \u001b[0;31m# data processing, CSV file I/O (e.g. pd.read_csv)\u001b[0m\u001b[0;34m\u001b[0m\u001b[0;34m\u001b[0m\u001b[0m\n\u001b[0;32m----> 7\u001b[0;31m \u001b[0;32mimport\u001b[0m \u001b[0mgurobipy\u001b[0m \u001b[0;32mas\u001b[0m \u001b[0mgp\u001b[0m \u001b[0;31m#pip install gurobipy\u001b[0m\u001b[0;34m\u001b[0m\u001b[0;34m\u001b[0m\u001b[0m\n\u001b[0m\u001b[1;32m      8\u001b[0m \u001b[0;32mfrom\u001b[0m \u001b[0mgurobipy\u001b[0m \u001b[0;32mimport\u001b[0m \u001b[0;34m*\u001b[0m\u001b[0;34m\u001b[0m\u001b[0;34m\u001b[0m\u001b[0m\n\u001b[1;32m      9\u001b[0m \u001b[0;34m\u001b[0m\u001b[0m\n",
      "\u001b[0;31mModuleNotFoundError\u001b[0m: No module named 'gurobipy'"
     ]
    }
   ],
   "source": [
    "# This Python 3 environment comes with many helpful analytics libraries installed\n",
    "# It is defined by the kaggle/python docker image: https://github.com/kaggle/docker-python\n",
    "# For example, here's several helpful packages to load in \n",
    "\n",
    "import numpy as np # linear algebra\n",
    "import pandas as pd # data processing, CSV file I/O (e.g. pd.read_csv)\n",
    "import gurobipy as gp #pip install gurobipy\n",
    "from gurobipy import *\n",
    "\n",
    "# Input data files are available in the \"../input/\" directory.\n",
    "# For example, running this (by clicking run or pressing Shift+Enter) will list all files under the input directory\n",
    "\n",
    "import os\n",
    "for dirname, _, filenames in os.walk('/kaggle/input'):\n",
    "    for filename in filenames:\n",
    "        print(os.path.join(dirname, filename))\n",
    "\n",
    "# Any results you write to the current directory are saved as output."
   ]
  },
  {
   "cell_type": "code",
   "execution_count": 2,
   "metadata": {
    "_cell_guid": "79c7e3d0-c299-4dcb-8224-4455121ee9b0",
    "_uuid": "d629ff2d2480ee46fbb7e2d37f6b5fab8052498a",
    "execution": {
     "iopub.execute_input": "2021-06-16T17:21:18.442272Z",
     "iopub.status.busy": "2021-06-16T17:21:18.441316Z",
     "iopub.status.idle": "2021-06-16T17:21:18.445171Z",
     "shell.execute_reply": "2021-06-16T17:21:18.444155Z",
     "shell.execute_reply.started": "2021-06-16T17:20:35.403350Z"
    },
    "papermill": {
     "duration": 0.015473,
     "end_time": "2021-06-16T17:21:18.445322",
     "exception": false,
     "start_time": "2021-06-16T17:21:18.429849",
     "status": "completed"
    },
    "tags": []
   },
   "outputs": [],
   "source": [
    "import csv\n",
    "from collections import namedtuple\n",
    "Item = namedtuple(\"Item\", ['index', 'value', 'weight'])"
   ]
  },
  {
   "cell_type": "code",
   "execution_count": 3,
   "metadata": {
    "execution": {
     "iopub.execute_input": "2021-06-16T17:21:18.465388Z",
     "iopub.status.busy": "2021-06-16T17:21:18.464755Z",
     "iopub.status.idle": "2021-06-16T17:21:18.467010Z",
     "shell.execute_reply": "2021-06-16T17:21:18.467503Z",
     "shell.execute_reply.started": "2021-06-16T17:20:35.410767Z"
    },
    "papermill": {
     "duration": 0.01535,
     "end_time": "2021-06-16T17:21:18.467666",
     "exception": false,
     "start_time": "2021-06-16T17:21:18.452316",
     "status": "completed"
    },
    "tags": []
   },
   "outputs": [],
   "source": [
    "from IPython.display import FileLink\n",
    "def submission_generation(filename, str_output):\n",
    "    os.chdir(r'/kaggle/working')\n",
    "    with open(filename, 'w', newline='') as file:\n",
    "        writer = csv.writer(file)\n",
    "        for item in str_output:\n",
    "            writer.writerow(item)\n",
    "    return  FileLink(filename)"
   ]
  },
  {
   "cell_type": "code",
   "execution_count": 4,
   "metadata": {
    "execution": {
     "iopub.execute_input": "2021-06-16T17:21:18.484363Z",
     "iopub.status.busy": "2021-06-16T17:21:18.483728Z",
     "iopub.status.idle": "2021-06-16T17:21:18.489133Z",
     "shell.execute_reply": "2021-06-16T17:21:18.489695Z",
     "shell.execute_reply.started": "2021-06-16T17:20:35.423758Z"
    },
    "papermill": {
     "duration": 0.015277,
     "end_time": "2021-06-16T17:21:18.489855",
     "exception": false,
     "start_time": "2021-06-16T17:21:18.474578",
     "status": "completed"
    },
    "tags": []
   },
   "outputs": [],
   "source": [
    "def check_solution(capacity, items, taken):\n",
    "    weight = 0\n",
    "    value = 0\n",
    "    for item in items:\n",
    "        if taken[item.index]== 1:\n",
    "            weight += item.weight\n",
    "            value += item.value\n",
    "    if weight> capacity:\n",
    "        print(\"solución incorrecta, se supera la capacidad de la mochila (capacity, weight):\", capacity, weight)\n",
    "        return 0\n",
    "    return value"
   ]
  },
  {
   "cell_type": "code",
   "execution_count": 5,
   "metadata": {
    "execution": {
     "iopub.execute_input": "2021-06-16T17:21:18.511561Z",
     "iopub.status.busy": "2021-06-16T17:21:18.510929Z",
     "iopub.status.idle": "2021-06-16T17:21:18.513669Z",
     "shell.execute_reply": "2021-06-16T17:21:18.513078Z",
     "shell.execute_reply.started": "2021-06-16T17:20:35.437197Z"
    },
    "papermill": {
     "duration": 0.016869,
     "end_time": "2021-06-16T17:21:18.513805",
     "exception": false,
     "start_time": "2021-06-16T17:21:18.496936",
     "status": "completed"
    },
    "tags": []
   },
   "outputs": [],
   "source": [
    "def solve_knapsack(values, weights, capacity):\n",
    "    # create empty model\n",
    "    m = Model(\"knapsack\")\n",
    "    m.setParam('OutputFlag', 0)\n",
    "\n",
    "    n = len(values)\n",
    "\n",
    "    ### Código aquí\n",
    "\n",
    "    # solve model\n",
    "    # añadimos variables 0/1 para cada item\n",
    "    var = m.addVars(n, vtype=GRB.BINARY)\n",
    "\n",
    "    # maximizar el valor\n",
    "    m.setObjective(quicksum(values[i] * var[i] for i in range(n)), GRB.MAXIMIZE)\n",
    "\n",
    "    # sin superar la capacidad\n",
    "    m.addConstr(quicksum(weights[i] * var[i] for i in range(n)) <= capacity)\n",
    "\n",
    "    m.optimize()\n",
    "    taken = [k for k, v in var.items() if v.X > 0.5]\n",
    "    return taken"
   ]
  },
  {
   "cell_type": "code",
   "execution_count": 6,
   "metadata": {
    "execution": {
     "iopub.execute_input": "2021-06-16T17:21:18.547154Z",
     "iopub.status.busy": "2021-06-16T17:21:18.546483Z",
     "iopub.status.idle": "2021-06-16T17:21:18.551183Z",
     "shell.execute_reply": "2021-06-16T17:21:18.550657Z",
     "shell.execute_reply.started": "2021-06-16T17:20:35.450802Z"
    },
    "papermill": {
     "duration": 0.030319,
     "end_time": "2021-06-16T17:21:18.551324",
     "exception": false,
     "start_time": "2021-06-16T17:21:18.521005",
     "status": "completed"
    },
    "tags": []
   },
   "outputs": [
    {
     "ename": "NameError",
     "evalue": "name 'os' is not defined",
     "output_type": "error",
     "traceback": [
      "\u001b[0;31m---------------------------------------------------------------------------\u001b[0m",
      "\u001b[0;31mNameError\u001b[0m                                 Traceback (most recent call last)",
      "\u001b[0;32m<ipython-input-6-a9a6c33d6345>\u001b[0m in \u001b[0;36m<module>\u001b[0;34m\u001b[0m\n\u001b[1;32m      1\u001b[0m \u001b[0mstr_output\u001b[0m \u001b[0;34m=\u001b[0m \u001b[0;34m[\u001b[0m\u001b[0;34m[\u001b[0m\u001b[0;34m\"Filename\"\u001b[0m\u001b[0;34m,\u001b[0m \u001b[0;34m\"Max_value\"\u001b[0m\u001b[0;34m]\u001b[0m\u001b[0;34m]\u001b[0m\u001b[0;34m\u001b[0m\u001b[0;34m\u001b[0m\u001b[0m\n\u001b[0;32m----> 2\u001b[0;31m \u001b[0;32mfor\u001b[0m \u001b[0mdirname\u001b[0m\u001b[0;34m,\u001b[0m \u001b[0m_\u001b[0m\u001b[0;34m,\u001b[0m \u001b[0mfilenames\u001b[0m \u001b[0;32min\u001b[0m \u001b[0mos\u001b[0m\u001b[0;34m.\u001b[0m\u001b[0mwalk\u001b[0m\u001b[0;34m(\u001b[0m\u001b[0;34m'/kaggle/input'\u001b[0m\u001b[0;34m)\u001b[0m\u001b[0;34m:\u001b[0m\u001b[0;34m\u001b[0m\u001b[0;34m\u001b[0m\u001b[0m\n\u001b[0m\u001b[1;32m      3\u001b[0m     \u001b[0;32mfor\u001b[0m \u001b[0mfilename\u001b[0m \u001b[0;32min\u001b[0m \u001b[0mfilenames\u001b[0m\u001b[0;34m:\u001b[0m\u001b[0;34m\u001b[0m\u001b[0;34m\u001b[0m\u001b[0m\n\u001b[1;32m      4\u001b[0m         \u001b[0mprint\u001b[0m\u001b[0;34m(\u001b[0m\u001b[0mos\u001b[0m\u001b[0;34m.\u001b[0m\u001b[0mpath\u001b[0m\u001b[0;34m.\u001b[0m\u001b[0mjoin\u001b[0m\u001b[0;34m(\u001b[0m\u001b[0mdirname\u001b[0m\u001b[0;34m,\u001b[0m \u001b[0mfilename\u001b[0m\u001b[0;34m)\u001b[0m\u001b[0;34m)\u001b[0m\u001b[0;34m\u001b[0m\u001b[0;34m\u001b[0m\u001b[0m\n\u001b[1;32m      5\u001b[0m         \u001b[0mfull_name\u001b[0m \u001b[0;34m=\u001b[0m \u001b[0mdirname\u001b[0m\u001b[0;34m+\u001b[0m\u001b[0;34m'/'\u001b[0m\u001b[0;34m+\u001b[0m\u001b[0mfilename\u001b[0m\u001b[0;34m\u001b[0m\u001b[0;34m\u001b[0m\u001b[0m\n",
      "\u001b[0;31mNameError\u001b[0m: name 'os' is not defined"
     ]
    }
   ],
   "source": [
    "str_output = [[\"Filename\", \"Max_value\"]]\n",
    "for dirname, _, filenames in os.walk('/kaggle/input'):\n",
    "    for filename in filenames:\n",
    "        print(os.path.join(dirname, filename))\n",
    "        full_name = dirname+'/'+filename\n",
    "        with open(full_name, 'r') as input_data_file:\n",
    "            input_data = input_data_file.readline()\n",
    "            lines = input_data.split('\\n')\n",
    "            firstLine = lines[0].split()\n",
    "            item_count = int(firstLine[0])\n",
    "            capacity = int(firstLine[1])\n",
    "            values = []\n",
    "            weights = []\n",
    "            items = []\n",
    "            for i in range(item_count):\n",
    "                input_data = input_data_file.readline()\n",
    "                lines = input_data.strip().split(' ')\n",
    "                values.append(int(lines[0]))\n",
    "                weights.append(int(lines[1]))\n",
    "                items.append(Item(i, int(lines[0]), int(lines[1])))\n",
    "            output = solve_knapsack(values, weights, capacity)\n",
    "\n",
    "            taken = [0] * item_count\n",
    "            value = 0\n",
    "            for i in range(len(output)):\n",
    "                taken[output[i]] = 1\n",
    "                value += values[output[i]]\n",
    "\n",
    "            output_data = str(value) + ' ' + str(0) + '\\n'\n",
    "            output_data += ' '.join(map(str, taken))\n",
    "\n",
    "            str_output.append([filename,str(value)])"
   ]
  },
  {
   "cell_type": "code",
   "execution_count": 7,
   "metadata": {
    "execution": {
     "iopub.execute_input": "2021-06-16T17:21:18.582616Z",
     "iopub.status.busy": "2021-06-16T17:21:18.573106Z",
     "iopub.status.idle": "2021-06-16T17:21:18.586328Z",
     "shell.execute_reply": "2021-06-16T17:21:18.586842Z"
    },
    "papermill": {
     "duration": 0.028521,
     "end_time": "2021-06-16T17:21:18.587029",
     "exception": false,
     "start_time": "2021-06-16T17:21:18.558508",
     "status": "completed"
    },
    "tags": []
   },
   "outputs": [
    {
     "ename": "NameError",
     "evalue": "name 'os' is not defined",
     "output_type": "error",
     "traceback": [
      "\u001b[0;31m---------------------------------------------------------------------------\u001b[0m",
      "\u001b[0;31mNameError\u001b[0m                                 Traceback (most recent call last)",
      "\u001b[0;32m<ipython-input-7-dfdfb937ea47>\u001b[0m in \u001b[0;36m<module>\u001b[0;34m\u001b[0m\n\u001b[0;32m----> 1\u001b[0;31m \u001b[0msubmission_generation\u001b[0m\u001b[0;34m(\u001b[0m\u001b[0;34mr'/kaggle/working/prueba.csv'\u001b[0m\u001b[0;34m,\u001b[0m \u001b[0mstr_output\u001b[0m\u001b[0;34m)\u001b[0m\u001b[0;34m\u001b[0m\u001b[0;34m\u001b[0m\u001b[0m\n\u001b[0m",
      "\u001b[0;32m<ipython-input-3-aef5fa8061ea>\u001b[0m in \u001b[0;36msubmission_generation\u001b[0;34m(filename, str_output)\u001b[0m\n\u001b[1;32m      1\u001b[0m \u001b[0;32mfrom\u001b[0m \u001b[0mIPython\u001b[0m\u001b[0;34m.\u001b[0m\u001b[0mdisplay\u001b[0m \u001b[0;32mimport\u001b[0m \u001b[0mFileLink\u001b[0m\u001b[0;34m\u001b[0m\u001b[0;34m\u001b[0m\u001b[0m\n\u001b[1;32m      2\u001b[0m \u001b[0;32mdef\u001b[0m \u001b[0msubmission_generation\u001b[0m\u001b[0;34m(\u001b[0m\u001b[0mfilename\u001b[0m\u001b[0;34m,\u001b[0m \u001b[0mstr_output\u001b[0m\u001b[0;34m)\u001b[0m\u001b[0;34m:\u001b[0m\u001b[0;34m\u001b[0m\u001b[0;34m\u001b[0m\u001b[0m\n\u001b[0;32m----> 3\u001b[0;31m     \u001b[0mos\u001b[0m\u001b[0;34m.\u001b[0m\u001b[0mchdir\u001b[0m\u001b[0;34m(\u001b[0m\u001b[0;34mr'/kaggle/working'\u001b[0m\u001b[0;34m)\u001b[0m\u001b[0;34m\u001b[0m\u001b[0;34m\u001b[0m\u001b[0m\n\u001b[0m\u001b[1;32m      4\u001b[0m     \u001b[0;32mwith\u001b[0m \u001b[0mopen\u001b[0m\u001b[0;34m(\u001b[0m\u001b[0mfilename\u001b[0m\u001b[0;34m,\u001b[0m \u001b[0;34m'w'\u001b[0m\u001b[0;34m,\u001b[0m \u001b[0mnewline\u001b[0m\u001b[0;34m=\u001b[0m\u001b[0;34m''\u001b[0m\u001b[0;34m)\u001b[0m \u001b[0;32mas\u001b[0m \u001b[0mfile\u001b[0m\u001b[0;34m:\u001b[0m\u001b[0;34m\u001b[0m\u001b[0;34m\u001b[0m\u001b[0m\n\u001b[1;32m      5\u001b[0m         \u001b[0mwriter\u001b[0m \u001b[0;34m=\u001b[0m \u001b[0mcsv\u001b[0m\u001b[0;34m.\u001b[0m\u001b[0mwriter\u001b[0m\u001b[0;34m(\u001b[0m\u001b[0mfile\u001b[0m\u001b[0;34m)\u001b[0m\u001b[0;34m\u001b[0m\u001b[0;34m\u001b[0m\u001b[0m\n",
      "\u001b[0;31mNameError\u001b[0m: name 'os' is not defined"
     ]
    }
   ],
   "source": [
    "submission_generation(r'/kaggle/working/prueba.csv', str_output)"
   ]
  }
 ],
 "metadata": {
  "kernelspec": {
   "display_name": "Python 3",
   "language": "python",
   "name": "python3"
  },
  "language_info": {
   "codemirror_mode": {
    "name": "ipython",
    "version": 3
   },
   "file_extension": ".py",
   "mimetype": "text/x-python",
   "name": "python",
   "nbconvert_exporter": "python",
   "pygments_lexer": "ipython3",
   "version": "3.7.9"
  },
  "papermill": {
   "default_parameters": {},
   "duration": 6.284795,
   "end_time": "2021-06-16T17:21:19.102792",
   "environment_variables": {},
   "exception": null,
   "input_path": "__notebook__.ipynb",
   "output_path": "__notebook__.ipynb",
   "parameters": {},
   "start_time": "2021-06-16T17:21:12.817997",
   "version": "2.2.2"
  }
 },
 "nbformat": 4,
 "nbformat_minor": 4
}
